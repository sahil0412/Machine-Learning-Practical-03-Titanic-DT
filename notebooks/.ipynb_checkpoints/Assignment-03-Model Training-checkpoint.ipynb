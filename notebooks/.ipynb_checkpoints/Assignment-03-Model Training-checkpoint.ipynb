{
 "cells": [
  {
   "cell_type": "code",
   "execution_count": 16,
   "id": "686bb0f3-8567-4909-843e-b95546180174",
   "metadata": {},
   "outputs": [],
   "source": [
    "import pandas as pd"
   ]
  },
  {
   "cell_type": "code",
   "execution_count": 75,
   "id": "73fcc641-ed65-4559-8f06-01bd711d987f",
   "metadata": {},
   "outputs": [],
   "source": [
    "url = \"https://raw.githubusercontent.com/BigDataGal/Python-for-Data-Science/master/titanic-train.csv\"\n",
    "df = pd.read_csv(url)"
   ]
  },
  {
   "cell_type": "code",
   "execution_count": 76,
   "id": "71d9b42d-382c-41e6-adf3-47565c61ef59",
   "metadata": {},
   "outputs": [],
   "source": [
    "df = df.drop(labels=[\"PassengerId\", \"Name\", \"Ticket\"], axis=1)"
   ]
  },
  {
   "cell_type": "code",
   "execution_count": 77,
   "id": "3a54e148-3483-4bba-8d83-8db9b6b0f1df",
   "metadata": {},
   "outputs": [],
   "source": [
    "## Independent and dependent features\n",
    "X = df.drop(labels=['Survived'],axis=1)\n",
    "Y = df[['Survived']]"
   ]
  },
  {
   "cell_type": "code",
   "execution_count": 78,
   "id": "4ee0046b-a9b8-4b48-aa08-c3e261ec9c2a",
   "metadata": {},
   "outputs": [],
   "source": [
    "X[\"Has_Cabin\"] = (X[\"Cabin\"].notnull().astype('int'))\n",
    "X = X.drop(['Cabin'], axis=1)"
   ]
  },
  {
   "cell_type": "code",
   "execution_count": 79,
   "id": "991e01e7-5fed-4eb4-8256-7dbff3824a91",
   "metadata": {},
   "outputs": [],
   "source": [
    "X[\"no_of_persons\"] = X[\"SibSp\"] + X[\"Parch\"]"
   ]
  },
  {
   "cell_type": "code",
   "execution_count": 80,
   "id": "17415b56-82e2-4527-a525-4dc644996982",
   "metadata": {},
   "outputs": [],
   "source": [
    "X = X.drop(labels=[\"SibSp\", \"Parch\"], axis=1)"
   ]
  },
  {
   "cell_type": "code",
   "execution_count": 81,
   "id": "b6425fbd-298d-4350-844d-ae36e1d9c380",
   "metadata": {},
   "outputs": [],
   "source": [
    "# Define which columns should be ordinal-encoded and which should be scaled\n",
    "categorical_cols = X.select_dtypes(include='object').columns\n",
    "numerical_cols = X.select_dtypes(exclude='object').columns"
   ]
  },
  {
   "cell_type": "code",
   "execution_count": 82,
   "id": "e5e9a4e2-b4f3-4133-991b-0854f715db62",
   "metadata": {},
   "outputs": [
    {
     "name": "stdout",
     "output_type": "stream",
     "text": [
      "Numerical columns: Index(['Pclass', 'Age', 'Fare', 'Has_Cabin', 'no_of_persons'], dtype='object')\n",
      "Categorical Columns: Index(['Sex', 'Embarked'], dtype='object')\n"
     ]
    }
   ],
   "source": [
    "print(\"Numerical columns:\",numerical_cols)\n",
    "print('Categorical Columns:',categorical_cols)"
   ]
  },
  {
   "cell_type": "code",
   "execution_count": 83,
   "id": "4861d7f9-90dc-4afd-b2aa-e362c416cfb5",
   "metadata": {},
   "outputs": [],
   "source": [
    "# numerical_columns_list = list(numerical_cols)\n",
    "# numerical_columns_list.remove('Has_Cabin')\n",
    "# numerical_columns_list.remove('Pclass')\n",
    "# # Convert the list back to Index\n",
    "# numerical_cols = pd.Index(numerical_columns_list)\n",
    "\n",
    "# # Now numerical_columns will have the modified values\n",
    "# print(numerical_cols)"
   ]
  },
  {
   "cell_type": "code",
   "execution_count": 84,
   "id": "bbbed5bf-eb80-4f56-a333-b1a1c9e5f998",
   "metadata": {},
   "outputs": [],
   "source": [
    "# categorical_columns_list = list(categorical_cols)\n",
    "# categorical_columns_list.extend(['Has_Cabin', 'Pclass'])\n",
    "# # Convert the list back to Index\n",
    "# categorical_cols = pd.Index(categorical_columns_list)\n",
    "\n",
    "# # Now numerical_columns will have the modified values\n",
    "# print(categorical_cols)"
   ]
  },
  {
   "cell_type": "code",
   "execution_count": 85,
   "id": "2f48e2f3-2acd-40af-af5b-0423e79e7656",
   "metadata": {},
   "outputs": [],
   "source": [
    "# Define the custom ranking for each ordinal variable\n",
    "sex_categories = ['male', 'female']\n",
    "embarked_categories = ['S', 'C', 'Q']\n",
    "# PClass_categories = [1,2,3]\n",
    "# HasCabin_categories = [0,1]"
   ]
  },
  {
   "cell_type": "code",
   "execution_count": 86,
   "id": "aba9872f-f345-449b-983c-88e7c8b5031d",
   "metadata": {},
   "outputs": [],
   "source": [
    "from sklearn.impute import SimpleImputer ## HAndling Missing Values\n",
    "from sklearn.preprocessing import StandardScaler # HAndling Feature Scaling\n",
    "from sklearn.preprocessing import OrdinalEncoder # Ordinal Encoding\n",
    "## pipelines\n",
    "from sklearn.pipeline import Pipeline\n",
    "from sklearn.compose import ColumnTransformer"
   ]
  },
  {
   "cell_type": "code",
   "execution_count": 87,
   "id": "9cb3f496-04c6-45b6-b80b-d8ef054e23c6",
   "metadata": {},
   "outputs": [],
   "source": [
    "## Numerical Pipeline\n",
    "num_pipeline=Pipeline(\n",
    "    steps=[\n",
    "    ('imputer',SimpleImputer(strategy='median')),\n",
    "    ('scaler',StandardScaler())\n",
    "    ]\n",
    ")\n",
    "\n",
    "# Categorigal Pipeline\n",
    "cat_pipeline=Pipeline(\n",
    "    steps=[\n",
    "    ('imputer',SimpleImputer(strategy='most_frequent')),\n",
    "    ('ordinalencoder',OrdinalEncoder(categories=[sex_categories,embarked_categories])),\n",
    "    ('scaler',StandardScaler())\n",
    "    ]\n",
    ")\n",
    "\n",
    "preprocessor=ColumnTransformer([\n",
    "('num_pipeline',num_pipeline,numerical_cols),\n",
    "('cat_pipeline',cat_pipeline,categorical_cols)\n",
    "])\n"
   ]
  },
  {
   "cell_type": "code",
   "execution_count": 88,
   "id": "6c4b5b17-f9ba-447a-b818-30a3e3a1b0e5",
   "metadata": {},
   "outputs": [],
   "source": [
    "## Train test split\n",
    "\n",
    "from sklearn.model_selection import train_test_split\n",
    "\n",
    "X_train,X_test,y_train,y_test=train_test_split(X,Y,test_size=0.30,random_state=30)"
   ]
  },
  {
   "cell_type": "code",
   "execution_count": 89,
   "id": "4847a063-49b0-460c-a7de-81aeaac07ee9",
   "metadata": {},
   "outputs": [
    {
     "name": "stdout",
     "output_type": "stream",
     "text": [
      "(623, 7) (623, 1)\n"
     ]
    }
   ],
   "source": [
    "print(X_train.shape, y_train.shape)"
   ]
  },
  {
   "cell_type": "code",
   "execution_count": 90,
   "id": "feacb64e-712a-4f4f-a50b-3d4307fcfd4a",
   "metadata": {},
   "outputs": [
    {
     "name": "stdout",
     "output_type": "stream",
     "text": [
      "     Pclass     Sex   Age     Fare Embarked  Has_Cabin  no_of_persons\n",
      "862       1  female  48.0  25.9292        S          1              0\n",
      "704       3    male  26.0   7.8542        S          0              1\n",
      "525       3    male  40.5   7.7500        Q          0              0\n",
      "234       2    male  24.0  10.5000        S          0              0\n",
      "518       2  female  36.0  26.0000        S          0              1\n"
     ]
    }
   ],
   "source": [
    "print(X_train.head())"
   ]
  },
  {
   "cell_type": "code",
   "execution_count": 91,
   "id": "47de5c7a-8643-497b-8b83-807abcde3f54",
   "metadata": {},
   "outputs": [],
   "source": [
    "X_train=pd.DataFrame(preprocessor.fit_transform(X_train),columns=preprocessor.get_feature_names_out())\n",
    "X_test=pd.DataFrame(preprocessor.transform(X_test),columns=preprocessor.get_feature_names_out())"
   ]
  },
  {
   "cell_type": "code",
   "execution_count": 92,
   "id": "79b618ab-5bbf-4ffe-93c5-d72c6e64cbae",
   "metadata": {},
   "outputs": [
    {
     "data": {
      "text/html": [
       "<div>\n",
       "<style scoped>\n",
       "    .dataframe tbody tr th:only-of-type {\n",
       "        vertical-align: middle;\n",
       "    }\n",
       "\n",
       "    .dataframe tbody tr th {\n",
       "        vertical-align: top;\n",
       "    }\n",
       "\n",
       "    .dataframe thead th {\n",
       "        text-align: right;\n",
       "    }\n",
       "</style>\n",
       "<table border=\"1\" class=\"dataframe\">\n",
       "  <thead>\n",
       "    <tr style=\"text-align: right;\">\n",
       "      <th></th>\n",
       "      <th>num_pipeline__Pclass</th>\n",
       "      <th>num_pipeline__Age</th>\n",
       "      <th>num_pipeline__Fare</th>\n",
       "      <th>num_pipeline__Has_Cabin</th>\n",
       "      <th>num_pipeline__no_of_persons</th>\n",
       "      <th>cat_pipeline__Sex</th>\n",
       "      <th>cat_pipeline__Embarked</th>\n",
       "    </tr>\n",
       "  </thead>\n",
       "  <tbody>\n",
       "    <tr>\n",
       "      <th>0</th>\n",
       "      <td>-1.610884</td>\n",
       "      <td>1.476292</td>\n",
       "      <td>-0.112476</td>\n",
       "      <td>1.956900</td>\n",
       "      <td>-0.551456</td>\n",
       "      <td>1.358215</td>\n",
       "      <td>-0.590696</td>\n",
       "    </tr>\n",
       "    <tr>\n",
       "      <th>1</th>\n",
       "      <td>0.798674</td>\n",
       "      <td>-0.221695</td>\n",
       "      <td>-0.477431</td>\n",
       "      <td>-0.511012</td>\n",
       "      <td>0.069805</td>\n",
       "      <td>-0.736260</td>\n",
       "      <td>-0.590696</td>\n",
       "    </tr>\n",
       "    <tr>\n",
       "      <th>2</th>\n",
       "      <td>0.798674</td>\n",
       "      <td>0.897433</td>\n",
       "      <td>-0.479535</td>\n",
       "      <td>-0.511012</td>\n",
       "      <td>-0.551456</td>\n",
       "      <td>-0.736260</td>\n",
       "      <td>2.581750</td>\n",
       "    </tr>\n",
       "    <tr>\n",
       "      <th>3</th>\n",
       "      <td>-0.406105</td>\n",
       "      <td>-0.376057</td>\n",
       "      <td>-0.424009</td>\n",
       "      <td>-0.511012</td>\n",
       "      <td>-0.551456</td>\n",
       "      <td>-0.736260</td>\n",
       "      <td>-0.590696</td>\n",
       "    </tr>\n",
       "    <tr>\n",
       "      <th>4</th>\n",
       "      <td>-0.406105</td>\n",
       "      <td>0.550118</td>\n",
       "      <td>-0.111046</td>\n",
       "      <td>-0.511012</td>\n",
       "      <td>0.069805</td>\n",
       "      <td>1.358215</td>\n",
       "      <td>-0.590696</td>\n",
       "    </tr>\n",
       "  </tbody>\n",
       "</table>\n",
       "</div>"
      ],
      "text/plain": [
       "   num_pipeline__Pclass  num_pipeline__Age  num_pipeline__Fare  \\\n",
       "0             -1.610884           1.476292           -0.112476   \n",
       "1              0.798674          -0.221695           -0.477431   \n",
       "2              0.798674           0.897433           -0.479535   \n",
       "3             -0.406105          -0.376057           -0.424009   \n",
       "4             -0.406105           0.550118           -0.111046   \n",
       "\n",
       "   num_pipeline__Has_Cabin  num_pipeline__no_of_persons  cat_pipeline__Sex  \\\n",
       "0                 1.956900                    -0.551456           1.358215   \n",
       "1                -0.511012                     0.069805          -0.736260   \n",
       "2                -0.511012                    -0.551456          -0.736260   \n",
       "3                -0.511012                    -0.551456          -0.736260   \n",
       "4                -0.511012                     0.069805           1.358215   \n",
       "\n",
       "   cat_pipeline__Embarked  \n",
       "0               -0.590696  \n",
       "1               -0.590696  \n",
       "2                2.581750  \n",
       "3               -0.590696  \n",
       "4               -0.590696  "
      ]
     },
     "execution_count": 92,
     "metadata": {},
     "output_type": "execute_result"
    }
   ],
   "source": [
    "X_train.head()"
   ]
  },
  {
   "cell_type": "code",
   "execution_count": 94,
   "id": "58bc0523-3b6c-41de-91ef-7e6a5b7d0094",
   "metadata": {},
   "outputs": [],
   "source": [
    "## Model Training\n",
    "\n",
    "from sklearn.tree import DecisionTreeClassifier"
   ]
  },
  {
   "cell_type": "code",
   "execution_count": 95,
   "id": "c3291abf-4473-4c39-888d-4fc2afde10fe",
   "metadata": {},
   "outputs": [
    {
     "data": {
      "text/html": [
       "<style>#sk-container-id-1 {color: black;background-color: white;}#sk-container-id-1 pre{padding: 0;}#sk-container-id-1 div.sk-toggleable {background-color: white;}#sk-container-id-1 label.sk-toggleable__label {cursor: pointer;display: block;width: 100%;margin-bottom: 0;padding: 0.3em;box-sizing: border-box;text-align: center;}#sk-container-id-1 label.sk-toggleable__label-arrow:before {content: \"▸\";float: left;margin-right: 0.25em;color: #696969;}#sk-container-id-1 label.sk-toggleable__label-arrow:hover:before {color: black;}#sk-container-id-1 div.sk-estimator:hover label.sk-toggleable__label-arrow:before {color: black;}#sk-container-id-1 div.sk-toggleable__content {max-height: 0;max-width: 0;overflow: hidden;text-align: left;background-color: #f0f8ff;}#sk-container-id-1 div.sk-toggleable__content pre {margin: 0.2em;color: black;border-radius: 0.25em;background-color: #f0f8ff;}#sk-container-id-1 input.sk-toggleable__control:checked~div.sk-toggleable__content {max-height: 200px;max-width: 100%;overflow: auto;}#sk-container-id-1 input.sk-toggleable__control:checked~label.sk-toggleable__label-arrow:before {content: \"▾\";}#sk-container-id-1 div.sk-estimator input.sk-toggleable__control:checked~label.sk-toggleable__label {background-color: #d4ebff;}#sk-container-id-1 div.sk-label input.sk-toggleable__control:checked~label.sk-toggleable__label {background-color: #d4ebff;}#sk-container-id-1 input.sk-hidden--visually {border: 0;clip: rect(1px 1px 1px 1px);clip: rect(1px, 1px, 1px, 1px);height: 1px;margin: -1px;overflow: hidden;padding: 0;position: absolute;width: 1px;}#sk-container-id-1 div.sk-estimator {font-family: monospace;background-color: #f0f8ff;border: 1px dotted black;border-radius: 0.25em;box-sizing: border-box;margin-bottom: 0.5em;}#sk-container-id-1 div.sk-estimator:hover {background-color: #d4ebff;}#sk-container-id-1 div.sk-parallel-item::after {content: \"\";width: 100%;border-bottom: 1px solid gray;flex-grow: 1;}#sk-container-id-1 div.sk-label:hover label.sk-toggleable__label {background-color: #d4ebff;}#sk-container-id-1 div.sk-serial::before {content: \"\";position: absolute;border-left: 1px solid gray;box-sizing: border-box;top: 0;bottom: 0;left: 50%;z-index: 0;}#sk-container-id-1 div.sk-serial {display: flex;flex-direction: column;align-items: center;background-color: white;padding-right: 0.2em;padding-left: 0.2em;position: relative;}#sk-container-id-1 div.sk-item {position: relative;z-index: 1;}#sk-container-id-1 div.sk-parallel {display: flex;align-items: stretch;justify-content: center;background-color: white;position: relative;}#sk-container-id-1 div.sk-item::before, #sk-container-id-1 div.sk-parallel-item::before {content: \"\";position: absolute;border-left: 1px solid gray;box-sizing: border-box;top: 0;bottom: 0;left: 50%;z-index: -1;}#sk-container-id-1 div.sk-parallel-item {display: flex;flex-direction: column;z-index: 1;position: relative;background-color: white;}#sk-container-id-1 div.sk-parallel-item:first-child::after {align-self: flex-end;width: 50%;}#sk-container-id-1 div.sk-parallel-item:last-child::after {align-self: flex-start;width: 50%;}#sk-container-id-1 div.sk-parallel-item:only-child::after {width: 0;}#sk-container-id-1 div.sk-dashed-wrapped {border: 1px dashed gray;margin: 0 0.4em 0.5em 0.4em;box-sizing: border-box;padding-bottom: 0.4em;background-color: white;}#sk-container-id-1 div.sk-label label {font-family: monospace;font-weight: bold;display: inline-block;line-height: 1.2em;}#sk-container-id-1 div.sk-label-container {text-align: center;}#sk-container-id-1 div.sk-container {/* jupyter's `normalize.less` sets `[hidden] { display: none; }` but bootstrap.min.css set `[hidden] { display: none !important; }` so we also need the `!important` here to be able to override the default hidden behavior on the sphinx rendered scikit-learn.org. See: https://github.com/scikit-learn/scikit-learn/issues/21755 */display: inline-block !important;position: relative;}#sk-container-id-1 div.sk-text-repr-fallback {display: none;}</style><div id=\"sk-container-id-1\" class=\"sk-top-container\"><div class=\"sk-text-repr-fallback\"><pre>DecisionTreeClassifier(max_depth=3, random_state=42)</pre><b>In a Jupyter environment, please rerun this cell to show the HTML representation or trust the notebook. <br />On GitHub, the HTML representation is unable to render, please try loading this page with nbviewer.org.</b></div><div class=\"sk-container\" hidden><div class=\"sk-item\"><div class=\"sk-estimator sk-toggleable\"><input class=\"sk-toggleable__control sk-hidden--visually\" id=\"sk-estimator-id-1\" type=\"checkbox\" checked><label for=\"sk-estimator-id-1\" class=\"sk-toggleable__label sk-toggleable__label-arrow\">DecisionTreeClassifier</label><div class=\"sk-toggleable__content\"><pre>DecisionTreeClassifier(max_depth=3, random_state=42)</pre></div></div></div></div></div>"
      ],
      "text/plain": [
       "DecisionTreeClassifier(max_depth=3, random_state=42)"
      ]
     },
     "execution_count": 95,
     "metadata": {},
     "output_type": "execute_result"
    }
   ],
   "source": [
    "clf = DecisionTreeClassifier(max_depth =3, random_state = 42)\n",
    "\n",
    "clf.fit(X_train, y_train)"
   ]
  },
  {
   "cell_type": "code",
   "execution_count": 102,
   "id": "59fd7137-26a7-4f64-bef0-3512a0212a49",
   "metadata": {},
   "outputs": [],
   "source": [
    "test_pred_decision_tree = clf.predict(X_test)"
   ]
  },
  {
   "cell_type": "code",
   "execution_count": 111,
   "id": "6d3358cb-a797-423c-8222-a935e345f2c0",
   "metadata": {},
   "outputs": [
    {
     "name": "stdout",
     "output_type": "stream",
     "text": [
      "[[143  17]\n",
      " [ 36  72]]\n"
     ]
    }
   ],
   "source": [
    "from sklearn.metrics import confusion_matrix\n",
    "import seaborn as sns\n",
    "import matplotlib.pyplot as plt\n",
    "confusion_matrix = confusion_matrix(y_test,  \n",
    "                                            test_pred_decision_tree)\n",
    "print(confusion_matrix)"
   ]
  },
  {
   "cell_type": "code",
   "execution_count": 112,
   "id": "22be639a-fdd4-4a7c-abd2-191ce0bae14b",
   "metadata": {},
   "outputs": [
    {
     "name": "stdout",
     "output_type": "stream",
     "text": [
      "Model Score on Train data is: 0.8378812199036918\n",
      "Model Score on Test data is: 0.8022388059701493\n"
     ]
    }
   ],
   "source": [
    "print(\"Model Score on Train data is:\", clf.score(X_train, y_train))\n",
    "print(\"Model Score on Test data is:\", clf.score(X_test, y_test))\n"
   ]
  },
  {
   "cell_type": "code",
   "execution_count": null,
   "id": "965c5d04-63e4-46fa-bfbb-205ce0f79cda",
   "metadata": {},
   "outputs": [],
   "source": []
  }
 ],
 "metadata": {
  "kernelspec": {
   "display_name": "Python 3 (ipykernel)",
   "language": "python",
   "name": "python3"
  },
  "language_info": {
   "codemirror_mode": {
    "name": "ipython",
    "version": 3
   },
   "file_extension": ".py",
   "mimetype": "text/x-python",
   "name": "python",
   "nbconvert_exporter": "python",
   "pygments_lexer": "ipython3",
   "version": "3.11.7"
  }
 },
 "nbformat": 4,
 "nbformat_minor": 5
}
